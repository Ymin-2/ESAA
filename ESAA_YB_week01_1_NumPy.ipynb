{
  "nbformat": 4,
  "nbformat_minor": 0,
  "metadata": {
    "colab": {
      "provenance": [],
      "toc_visible": true,
      "authorship_tag": "ABX9TyP808aiXZ+IW4O+2jZWJGUx",
      "include_colab_link": true
    },
    "kernelspec": {
      "name": "python3",
      "display_name": "Python 3"
    },
    "language_info": {
      "name": "python"
    }
  },
  "cells": [
    {
      "cell_type": "markdown",
      "metadata": {
        "id": "view-in-github",
        "colab_type": "text"
      },
      "source": [
        "<a href=\"https://colab.research.google.com/github/gaeae2/ESAA/blob/main/ESAA_YB_week01_1_NumPy.ipynb\" target=\"_parent\"><img src=\"https://colab.research.google.com/assets/colab-badge.svg\" alt=\"Open In Colab\"/></a>"
      ]
    },
    {
      "cell_type": "markdown",
      "source": [
        "# 넘파이\n",
        "(Numerical Python) NumPy: 파이썬에서 선형대수 기반의 프로그램을 쉽게 만들 수 있도록 지원하는 대표적인 패키지\n",
        "\n",
        "\n",
        "*   루프 사용 X, 대량 데이터의 배열 연산 가능 → 빠른 배열 연산 속도\n",
        "*   다양한 데이터 핸들링 기능 제공\n",
        "* 판다스(파이썬의 대표적인 데이터 처리 패키지)의 편리성에는 미치지 못함\n",
        "\n",
        "\n",
        "\n"
      ],
      "metadata": {
        "id": "L0fNa76Lx1q_"
      }
    },
    {
      "cell_type": "markdown",
      "source": [
        "## **넘파이 ndarray 개요**\n"
      ],
      "metadata": {
        "id": "YSrRNuC806XP"
      }
    },
    {
      "cell_type": "markdown",
      "source": [
        "ndarray: 넘파이의 기반 데이터 타입\n",
        "* 넘파이에서 다차원 배열을 쉽게 생성하고 다양한 연산 수행 가능"
      ],
      "metadata": {
        "id": "DZyS8IO84YIs"
      }
    },
    {
      "cell_type": "code",
      "source": [
        "import numpy as np\n",
        "# as np 를 추가해 약어로 모듈을 표현해주는 게 관례"
      ],
      "metadata": {
        "id": "dVQXrT8D1gOl"
      },
      "execution_count": null,
      "outputs": []
    },
    {
      "cell_type": "markdown",
      "source": [
        "넘파이 array() 함수: 파이썬의 리스트와 같은 다양한 인자를 입력받아서 ndarray로 변환하는 기능 수행"
      ],
      "metadata": {
        "id": "L2ZziPVH1qav"
      }
    }
  ]
}