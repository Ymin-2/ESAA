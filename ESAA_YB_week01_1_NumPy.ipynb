{
  "nbformat": 4,
  "nbformat_minor": 0,
  "metadata": {
    "colab": {
      "provenance": [],
      "toc_visible": true,
      "authorship_tag": "ABX9TyOaYsAfl7j6JRcUtmkXj4AY",
      "include_colab_link": true
    },
    "kernelspec": {
      "name": "python3",
      "display_name": "Python 3"
    },
    "language_info": {
      "name": "python"
    }
  },
  "cells": [
    {
      "cell_type": "markdown",
      "metadata": {
        "id": "view-in-github",
        "colab_type": "text"
      },
      "source": [
        "<a href=\"https://colab.research.google.com/github/Ymin-2/ESAA/blob/main/ESAA_YB_week01_1_NumPy.ipynb\" target=\"_parent\"><img src=\"https://colab.research.google.com/assets/colab-badge.svg\" alt=\"Open In Colab\"/></a>"
      ]
    },
    {
      "cell_type": "markdown",
      "source": [
        "# **넘파이**\n",
        "(Numerical Python) NumPy: 파이썬에서 선형대수 기반의 프로그램을 쉽게 만들 수 있도록 지원하는 대표적인 패키지\n",
        "\n",
        "\n",
        "*   루프 사용 X, 대량 데이터의 배열 연산 가능 → 빠른 배열 연산 속도\n",
        "*   다양한 데이터 핸들링 기능 제공\n",
        "* 판다스(파이썬의 대표적인 데이터 처리 패키지)의 편리성에는 미치지 못함\n",
        "\n",
        "\n",
        "\n"
      ],
      "metadata": {
        "id": "L0fNa76Lx1q_"
      }
    },
    {
      "cell_type": "markdown",
      "source": [
        "## 넘파이 ndarray 개요\n"
      ],
      "metadata": {
        "id": "YSrRNuC806XP"
      }
    },
    {
      "cell_type": "markdown",
      "source": [
        "ndarray: 넘파이의 기반 데이터 타입\n",
        "* 넘파이에서 다차원 배열을 쉽게 생성하고 다양한 연산 수행 가능"
      ],
      "metadata": {
        "id": "DZyS8IO84YIs"
      }
    },
    {
      "cell_type": "code",
      "source": [
        "import numpy as np\n",
        "# as np 를 추가해 약어로 모듈을 표현해주는 게 관례"
      ],
      "metadata": {
        "id": "dVQXrT8D1gOl"
      },
      "execution_count": null,
      "outputs": []
    },
    {
      "cell_type": "markdown",
      "source": [
        "array() 함수: 파이썬의 리스트와 같은 다양한 인자를 입력받아서 ndarray로 변환하는 기능 수행\n",
        "\n",
        "생성된 ndarray 배열의 shape 변수는 ndarray의 크기(행과 열의 수)를 튜플 형태로 가짐 → ndarray 배열의 차원까지 알 수 있음"
      ],
      "metadata": {
        "id": "L2ZziPVH1qav"
      }
    },
    {
      "cell_type": "code",
      "source": [
        "array1 = np.array([1, 2, 3])\n",
        "print('array1 type: ', type(array1))\n",
        "print('array1 array 형태: ', array1.shape)\n",
        "\n",
        "array2 = np.array([[1, 2, 3],\n",
        "                   [2, 3, 4]])\n",
        "print('array2 type: ', type(array2))\n",
        "print('array2 array 형태: ', array2.shape)\n",
        "\n",
        "array3 = np.array([[1, 2, 3]])\n",
        "print('array3 type: ', type(array3))\n",
        "print('array3 array 형태: ', array3.shape)"
      ],
      "metadata": {
        "id": "DF5dXnjN1fIB"
      },
      "execution_count": null,
      "outputs": []
    },
    {
      "cell_type": "markdown",
      "source": [
        "np.array() 사용법\n",
        "\n",
        "ndarray로 변환을 원하는 객체를 인자로 입력  \n",
        "* **ndarray.shpae**: ndarray의 차원과 크기를 튜플 형태로 나타냄\n",
        "  - [1, 2, 3]의 shape: (3,) *#1차원 array로 3개의 데이터를 가지고 있음*  \n",
        "  - [[1, 2, 3], [2, 3, 4]]의 shape: (2, 3) *#2차원 array, 2개의 로우와 3개의 칼럼으로 구성되어 6개의 데이터를 가지고 있음*\n",
        "  - [[1, 2, 3]]의 shape: (1, 3) *#1개의 로우와 3개의 칼럼으로 구성된 2차원 데이터  \n",
        "  - array3은 array1과 동일한 데이터 건수를 가지고 있지만, array1은 명확하게 1차원임을(3,) 형태로, array3은 명확하게 2차원 데이터임을 (1,3)으로 표현"
      ],
      "metadata": {
        "id": "KC470cuX3on1"
      }
    },
    {
      "cell_type": "code",
      "source": [
        "print('array1: {0}차원, array2: {1}차원, array3: {2}차원'.format(array1.ndim, array2.ndim, array3.ndim))"
      ],
      "metadata": {
        "id": "IVcrwrzB6b4F"
      },
      "execution_count": null,
      "outputs": []
    },
    {
      "cell_type": "markdown",
      "source": [
        "ndarray.ndim: array의 차원 확인"
      ],
      "metadata": {
        "id": "TFtJDrnz6y9i"
      }
    },
    {
      "cell_type": "markdown",
      "source": [
        "## ndarray의 데이터 타입"
      ],
      "metadata": {
        "id": "DtXlSm7W7sh9"
      }
    },
    {
      "cell_type": "markdown",
      "source": [
        "ndarray내의 데이터값은 숫자 값, 문자열 값, 불 값 등 모두 가능  \n",
        "ndarray내의 데이터 타입은 그 연산의 특성상 같은 데이터 타입만 가능  \n",
        "ndarray내의 데이터 타입은 dtype 속성으로 확인 가능"
      ],
      "metadata": {
        "id": "89RIrOjl8IWm"
      }
    },
    {
      "cell_type": "code",
      "source": [
        "list1 = [1, 2, 3]\n",
        "print(type(list1))\n",
        "array1 = np.array(list1)\n",
        "print(type(array1))\n",
        "print(array1, array1.dtype)"
      ],
      "metadata": {
        "id": "bs2CaTV98qu0"
      },
      "execution_count": null,
      "outputs": []
    },
    {
      "cell_type": "code",
      "source": [
        "list2 = [1, 2, 'test']\n",
        "array2 = np.array(list2)\n",
        "print(array2, array2.dtype)\n",
        "\n",
        "list3 = [1, 2, 3.0]\n",
        "array3 = np.array(list3)\n",
        "print(array3, array3.dtype)"
      ],
      "metadata": {
        "id": "X-y8aPsV9c4N"
      },
      "execution_count": null,
      "outputs": []
    },
    {
      "cell_type": "markdown",
      "source": [
        "서로 다른 데이터 타입을 가질 수 있는 리스트와는 다르게 ndarray 내의 데이터 타입은 그 연산의 특성상 같은 데이터 타입만 가능  \n",
        "→ 다른 데이터 유형이 섞여 있는 리스트를 ndarray로 변경하면 데이터 크기가 더 큰 데이터 타입으로 형 변환 일괄 적용  \n",
        "* int형 값과 문자열이 섞여 있는 list2 → int형이 유니코드 문자열 값으로 변환\n",
        "* int형과 float형이 섞여 있는 list3 → int형이 float64형으로 변환"
      ],
      "metadata": {
        "id": "1RucZAit8-NE"
      }
    },
    {
      "cell_type": "markdown",
      "source": [
        "ndarray 내 데이터값의 타입 변경: **astype()** 메서드 이용  \n",
        "* astype()에 인자로 원하는 타입을 문자열로 지정\n",
        "* 메모리를 더 절약해야 할 때 이용"
      ],
      "metadata": {
        "id": "YG9MTDTW_xSv"
      }
    },
    {
      "cell_type": "code",
      "source": [
        "array_int = np.array([1, 2, 3])\n",
        "array_float = array_int.astype('float64') #int32형 데이터를 float64로 변환\n",
        "print(array_float, array_float.dtype)\n",
        "\n",
        "array_int1 = array_float.astype('int32') #float64를 int32로 변경\n",
        "print(array_int1, array_int1.dtype)\n",
        "\n",
        "array_float1 = np.array([1.1, 2.1, 3.1])\n",
        "array_int2 = array_float1.astype('int32')\n",
        "print(array_int2, array_int2.dtype) #float를 int형으로 변경할 때 소수점 이하 없어짐"
      ],
      "metadata": {
        "id": "vb8hzFGvATGs"
      },
      "execution_count": null,
      "outputs": []
    },
    {
      "cell_type": "markdown",
      "source": [
        "## ndarray를 편리하게 생성하기 - arange, zeros, ones\n",
        "특정 크기와 차원을 가진 ndarray를 연속값이나 0 또는 1로 초기화해 쉽게 생성해야 할 필요가 있는 경우에 이용  \n",
        "테스트용으로 데이터를 만들거나 대규모의 데이터를 일괄적으로 초기화해야 할 경우에 사용"
      ],
      "metadata": {
        "id": "avpVGLhYBv5X"
      }
    },
    {
      "cell_type": "markdown",
      "source": [
        "**arange()** : array를 range()로 표현  \n",
        "0부터 함수 인자 값 -1까지의 값을 순차적으로 ndarray의 데이터값으로 변환  "
      ],
      "metadata": {
        "id": "Z-Hz7oZZCU_I"
      }
    },
    {
      "cell_type": "code",
      "source": [
        "sequence_array = np.arange(10)\n",
        "print(sequence_array)\n",
        "print(sequence_array.dtype, sequence_array.shape)"
      ],
      "metadata": {
        "id": "N40NYbr0HIhj"
      },
      "execution_count": null,
      "outputs": []
    },
    {
      "cell_type": "markdown",
      "source": [
        "default 함수 인자는 stop 값, 0부터 stop 값-1까지의 연속 숫자 값으로 구성된 1차원 ndarray를 만듦  \n",
        "start 값도 부여해 0이 아닌 다른 값부터 시작한 연속 값 부여 가능"
      ],
      "metadata": {
        "id": "oa2j1EFlHS_y"
      }
    },
    {
      "cell_type": "markdown",
      "source": [
        "**zeros()**: 함수 인자로 튜플 형태의 shape 값을 입력하면 모든 값을 0으로 채운 해당 shape를 가진 ndarray 반환  \n",
        "**ones()**: 함수 인자로 튜플 형태의 shape 값을 입력하면 모든 값을 1로 채운 해당 shape를 가진 ndarray 반환  \n",
        "함수 인자로 dtype을 정해주지 않으면 default로 float64 형의 데이터로 ndarray 채움"
      ],
      "metadata": {
        "id": "gcZ7jnZmH641"
      }
    },
    {
      "cell_type": "code",
      "source": [
        "zero_array = np.zeros((3, 2), dtype = 'int32')\n",
        "print(zero_array)\n",
        "print(zero_array.dtype, zero_array.shape)\n",
        "\n",
        "one_array = np.ones((3, 2))\n",
        "print(one_array)\n",
        "print(one_array.dtype, one_array.shape)"
      ],
      "metadata": {
        "id": "JdgHWNAYIalI"
      },
      "execution_count": null,
      "outputs": []
    },
    {
      "cell_type": "markdown",
      "source": [
        "## ndarray의 차원과 크기를 변경하는 reshape()  \n",
        "**reshape()** 메서드: ndarray를 특정 차원 및 크기로 변환, 변환을 원하는 크기를 함수 인자로 부여"
      ],
      "metadata": {
        "id": "mWAaWxVoI4qm"
      }
    },
    {
      "cell_type": "code",
      "source": [
        "array1 = np.arange(10)\n",
        "print('array1:\\n', array1)\n",
        "\n",
        "array2 = array1.reshape(2, 5)\n",
        "print('array2:\\n', array2)\n",
        "\n",
        "array3 = array1.reshape(5, 2)\n",
        "print('array3:\\n', array3)"
      ],
      "metadata": {
        "id": "gE0s-a0JJWqe"
      },
      "execution_count": null,
      "outputs": []
    },
    {
      "cell_type": "markdown",
      "source": [
        "지정된 사이즈로 변경이 불가능하면 오류 발생"
      ],
      "metadata": {
        "id": "z4AgG6SjKIp2"
      }
    },
    {
      "cell_type": "code",
      "source": [
        "array1.reshape(4, 3)"
      ],
      "metadata": {
        "id": "sm68XsIWKLHi"
      },
      "execution_count": null,
      "outputs": []
    },
    {
      "cell_type": "markdown",
      "source": [
        "-1을 인자로 사용하면 원래 ndarray와 호환되는 새로운 shape로 변환"
      ],
      "metadata": {
        "id": "ftPzyZQvKVBk"
      }
    },
    {
      "cell_type": "code",
      "source": [
        "array1 = np.arange(10)\n",
        "print(array1)\n",
        "array2 = array1.reshape(-1, 5) #array1과 호환될 수 있는 2차원 ndarray로 변환하되, 고정된 5개의 칼럼에 맞는 로우를 자동으로 새롭게 생성해 변환\n",
        "print('array2 shape: ', array2.shape)\n",
        "array3 = array1.reshape(5, -1) #array1과 호환될 수 있는 고정된 5개의 로우에 맞는 칼럼을 자동으로 새롭게 생성해 변환\n",
        "print('array3 shape: ', array3.shape)"
      ],
      "metadata": {
        "id": "tcAURmkhKbYs"
      },
      "execution_count": null,
      "outputs": []
    },
    {
      "cell_type": "code",
      "source": [
        "array1 = np.arange(10)\n",
        "array4 = array1.reshape(-1, 4) #10개의 1차원 데이터를 고정된 4개의 칼럼을 가진 로우로는 변경 불가능"
      ],
      "metadata": {
        "id": "Q7AldONBMYWr"
      },
      "execution_count": null,
      "outputs": []
    },
    {
      "cell_type": "markdown",
      "source": [
        "-1 인자는 **reshape(-1, 1)**와 같은 형태로 자주 사용  \n",
        "* 원본 ndarray가 어떤 형태라도 2차원이고, 여러 개의 로우를 가지되 반드시 1개의 칼럼을 가진 ndarray로 변환  \n",
        "* 여러 개의 넘파이 ndarray는 stack이나 concat으로 결합할 때 각각의 ndarray의 형태 통일"
      ],
      "metadata": {
        "id": "QexehUFSMmGq"
      }
    },
    {
      "cell_type": "code",
      "source": [
        "array1 = np.arange(8)\n",
        "array3d = array1.reshape((2, 2, 2))\n",
        "print('array3d:\\n', array3d.tolist()) #tolist() 메서드를 이용해 리스트 자료형으로 변환 가능\n",
        "\n",
        "#3차원 ndarray를 2차원 ndarray로 변환\n",
        "array5 = array3d.reshape(-1, 1)\n",
        "print('array5:\\n', array5.tolist())\n",
        "print('array5 shape: ', array5.shape)\n",
        "\n",
        "#1차원 ndarray를 2차원 ndarray로 변환\n",
        "array6 = array1.reshape(-1, 1)\n",
        "print('array6:\\n', array6.tolist())\n",
        "print('array6 shape: ', array6.shape)"
      ],
      "metadata": {
        "id": "zAm07LfTNGfM"
      },
      "execution_count": null,
      "outputs": []
    },
    {
      "cell_type": "markdown",
      "source": [
        "## 넘파이의 ndarray의 데이터 세트 선택하기 - 인덱싱(Indexing)  \n",
        "1. 특정 데이터만 추출: 원하는 위치의 인덱스 값 지정하면 해당 위치 데이터 반환  \n",
        "2. 슬라이싱(Slicing): 연속된 인덱스상의 ndarray 추출. ':' 기호 사이에 시작 인덱스와 종료 인덱스 표시하면 시작 인덱스에서 종료 인덱스-1 위치에 있는 데이터의 ndarray 반환\n",
        "3. 팬시 인덱싱(Fancy Indexing): 일정한 인덱싱 집합을 리스트 또는 ndarray 형태로 지정해 해당 위치에 있는 데이터의 ndarray 반환\n",
        "4. 불린 인덱싱(Boolean Indexing): 특정 조건에 해당하는지 True/False 값 인덱싱 집합을 기반으로 True에 해당하는 인덱스 위치에 있는 데이터의 ndarray 반환"
      ],
      "metadata": {
        "id": "bivAb2tyNyPl"
      }
    },
    {
      "cell_type": "markdown",
      "source": [
        "**단일 값 추출**"
      ],
      "metadata": {
        "id": "x5ALVKyXOm0m"
      }
    },
    {
      "cell_type": "markdown",
      "source": [
        "1개의 데이터값 선택: ndarray 객체에 해당하는 위치의 인덱스 값을 [] 안에 입력"
      ],
      "metadata": {
        "id": "ETytlnGwO34X"
      }
    },
    {
      "cell_type": "code",
      "source": [
        "#1부터 9까지의 1차원 ndarray 생성\n",
        "array1 = np.arange(start=1, stop=10)\n",
        "print('array1: ', array1)\n",
        "#index는 0부터 시작하므로 array1[2]는 3번째 index 위치의 데이터값을 의미\n",
        "value = array1[2]\n",
        "print('value: ', value)\n",
        "print(type(value))"
      ],
      "metadata": {
        "id": "Cfsw9R1YO4an"
      },
      "execution_count": null,
      "outputs": []
    },
    {
      "cell_type": "markdown",
      "source": [
        "array1[2]의 타입: ndarray 내의 데이터값"
      ],
      "metadata": {
        "id": "3-A96c-WPR0-"
      }
    },
    {
      "cell_type": "markdown",
      "source": [
        "인덱스에 마이너스 기호를 이용하면 맨 뒤에서부터 데이터 추출"
      ],
      "metadata": {
        "id": "LpvubgXZPZni"
      }
    },
    {
      "cell_type": "code",
      "source": [
        "print('맨 뒤의 값: ', array1[-1], '맨 뒤에서 두 번째 값: ', array1[-2])"
      ],
      "metadata": {
        "id": "ay_nuVTiPfSL"
      },
      "execution_count": null,
      "outputs": []
    },
    {
      "cell_type": "markdown",
      "source": [
        "단일 인덱스를 이용해 ndarray 내의 데이터값 수정 가능"
      ],
      "metadata": {
        "id": "Xg07G7LSPqSa"
      }
    },
    {
      "cell_type": "code",
      "source": [
        "array1[0] = 9\n",
        "array1[8] = 0\n",
        "print('array1: ', array1)"
      ],
      "metadata": {
        "id": "BXnOodlaPt-g"
      },
      "execution_count": null,
      "outputs": []
    },
    {
      "cell_type": "markdown",
      "source": [
        "다차원 ndarray에서 단일 값 추출  \n",
        "2차원의 경우 콤마(,)로 분리된 로우와 칼럼 위치의 인덱스를 통해 접근"
      ],
      "metadata": {
        "id": "mdwmWjnOP4vx"
      }
    },
    {
      "cell_type": "code",
      "source": [
        "array1d = np.arange(start=1, stop=10)\n",
        "array2d = array1d.reshape(3, 3)\n",
        "print(array2d)\n",
        "\n",
        "print('(row=0, col=0) index 가리키는 값: ', array2d[0, 0])\n",
        "print('(row=0 col=1) index 가리키는 값: ', array2d[0, 1])\n",
        "print('(row=1, col=0) index 가리키는 값: ', array2d[1, 0])\n",
        "print('(row=2, col=2) index 가리키는 값: ', array2d[2, 2])"
      ],
      "metadata": {
        "id": "F9kmDCdAQCrZ"
      },
      "execution_count": null,
      "outputs": []
    },
    {
      "cell_type": "markdown",
      "source": [
        "row 방향의 축: axis 0  \n",
        "column 방향의 축: axis 1  \n",
        "[row=0, col=1] 인덱싱은 [axis 0=0, axis 1=1]이 정확한 표현  \n",
        "3차원의 경우 axis 0, axis 1, axis 2 (행, 열, 높이)로 3개의 축을 가짐  \n",
        "축 기반의 연산에서 axis가 생략되면 axis 0 의미"
      ],
      "metadata": {
        "id": "lJpZ1--PQjCC"
      }
    },
    {
      "cell_type": "markdown",
      "source": [
        "**슬라이싱**  \n",
        ": ':' 기호를 이용해 연속한 데이터 추출  \n",
        "단일 데이터값 추출 제외 슬라이싱, 팬시 인덱싱, 불린 인덱싱으로 추출된 데이터 세트는 ndarray 타입  "
      ],
      "metadata": {
        "id": "xskE1F4KRHLP"
      }
    },
    {
      "cell_type": "code",
      "source": [
        "array1 = np.arange(start=1, stop=10)\n",
        "array3 = array1[0:3]\n",
        "print(array3)\n",
        "print(type(array3))"
      ],
      "metadata": {
        "id": "pN4eOYgcRePw"
      },
      "execution_count": null,
      "outputs": []
    },
    {
      "cell_type": "markdown",
      "source": [
        "1. ':' 기호 앞에 시작 인덱스 생략: 맨 처음 인덱스인 0으로 간주\n",
        "2. ':' 기호 뒤에 종료 인덱스 생량: 맨 마지막 인덱스로 간주\n",
        "3. ':' 기호 앞/뒤에 시작/종료 인덱스 생략: 맨 처음/맨 마지막 인덱스로 간주"
      ],
      "metadata": {
        "id": "kaAv9B6XRotA"
      }
    },
    {
      "cell_type": "code",
      "source": [
        "array1 = np.arange(start=1, stop=10)\n",
        "array4 = array1[:3]\n",
        "print(array4)\n",
        "\n",
        "array5 = array1[3:]\n",
        "print(array5)\n",
        "\n",
        "array6 = array1[:]\n",
        "print(array6)"
      ],
      "metadata": {
        "id": "nTRt7bgNSIfR"
      },
      "execution_count": null,
      "outputs": []
    },
    {
      "cell_type": "markdown",
      "source": [
        "2차원: ,로 로우와 칼럼 인덱스 지칭"
      ],
      "metadata": {
        "id": "aTye_mURSWmY"
      }
    },
    {
      "cell_type": "code",
      "source": [
        "array1d = np.arange(start=1, stop=10)\n",
        "array2d=array1d.reshape(3, 3)\n",
        "print('array2d:\\n', array2d)\n",
        "\n",
        "print('array2d[0:2, 0:2]\\n', array2d[0:2, 0:2])\n",
        "print('array2d[1:3, 0:3]\\n', array2d[1:3, 0:3])\n",
        "print('array2d[1:3, :]\\n', array2d[1:3, :])\n",
        "print('array2d[:,:]\\n', array2d[:,:])\n",
        "print('array2d[:2, 1:]\\n', array2d[:2, 1:])\n",
        "print('array2d[:2, 0]\\n', array2d[:2, 0])"
      ],
      "metadata": {
        "id": "7Qrp8YPSSa0O"
      },
      "execution_count": null,
      "outputs": []
    },
    {
      "cell_type": "markdown",
      "source": [
        "2차원 ndarray에서 뒤에 오는 인덱스를 없애면 1차원 ndarray 반환  \n",
        "ex. array2d[0]: axis 0의 첫 번째 로우 ndarray 반환, 반환되는 ndarray: 1차원  \n",
        "3차원 ndarray에서 뒤에 오는 인덱스를 없애면 2차원 ndarray 반환"
      ],
      "metadata": {
        "id": "hDQRzv6jUdUT"
      }
    },
    {
      "cell_type": "code",
      "source": [
        "print(array2d[0])\n",
        "print(array2d[1])\n",
        "print('array2d[0] shape: ', array2d[0].shape, 'array2d[1] shape: ', array2d[1].shape)"
      ],
      "metadata": {
        "id": "zq_tx5Y8U9N0"
      },
      "execution_count": null,
      "outputs": []
    },
    {
      "cell_type": "markdown",
      "source": [
        "**팬시 인덱싱**"
      ],
      "metadata": {
        "id": "fTt6S8pbVZpl"
      }
    },
    {
      "cell_type": "code",
      "source": [
        "array1d = np.arange(start=1, stop=10)\n",
        "array2d = array1d.reshape(3, 3)\n",
        "\n",
        "array3 = array2d[[0,1], 2]\n",
        "print('array2d[[0, 1], 2] => ', array3.tolist())\n",
        "\n",
        "array4 = array2d[[0, 1], 0:2]\n",
        "print('array2d[[0, 1], 0:2] => ', array4.tolist())\n",
        "\n",
        "array5 = array2d[[0, 1]]\n",
        "print('array2d[[0, 1]] => ', array5.tolist())"
      ],
      "metadata": {
        "id": "t-sWkbghVyiR"
      },
      "execution_count": null,
      "outputs": []
    },
    {
      "cell_type": "markdown",
      "source": [
        "* array3: (row, col) 인덱스가 (0, 2), (1, 2)로 적용  \n",
        "* array4: ((0, 0), (0, 1)), ((1, 0), (1, 1)) 인덱싱이 적용  \n",
        "* array5: ((0, :), (1, :)) 인덱싱 적용"
      ],
      "metadata": {
        "id": "dfPVlD_GWqWp"
      }
    },
    {
      "cell_type": "markdown",
      "source": [
        "**불린 인덱싱**  \n",
        "조건 필터링과 검색 동시 수행 가능  \n",
        "ndarray의 인덱스를 지정하는 [] 내에 조건문을 그대로 기재"
      ],
      "metadata": {
        "id": "UvKBgNTuXD43"
      }
    },
    {
      "cell_type": "code",
      "source": [
        "array1d = np.arange(start=1, stop=10)\n",
        "#[] 안에 array1d > 5 Boolean indexing을 적용\n",
        "array3 = array1d[array1d > 5]\n",
        "print('array1d > 5 불린 인덱싱 결과 값: ', array3)"
      ],
      "metadata": {
        "id": "W1J2tLQxXek_"
      },
      "execution_count": null,
      "outputs": []
    },
    {
      "cell_type": "code",
      "source": [
        "#넘파이 ndarray 객체에 조건식 할당\n",
        "array1d > 5"
      ],
      "metadata": {
        "id": "0EcMHT-NXuPf"
      },
      "execution_count": null,
      "outputs": []
    },
    {
      "cell_type": "markdown",
      "source": [
        "조건으로 반환된 ndarray 객체를 인덱싱을 지정하는 [] 내에 입력하면 False값은 무시하고 True 값이 있는 위치 인덱스 값으로 자동 변환"
      ],
      "metadata": {
        "id": "XAn0wZObX2Pu"
      }
    },
    {
      "cell_type": "code",
      "source": [
        "#불린 ndarray를 만들고 이를 array1d[] 내에 인덱스로 입력\n",
        "boolean_indexes = np.array([False, False, False, False, False, True, True, True, True])\n",
        "array3 = array1d[boolean_indexes]\n",
        "print('불린 인덱스로 필터링 결과: ', array3)"
      ],
      "metadata": {
        "id": "F_CWeLW3YMRR"
      },
      "execution_count": null,
      "outputs": []
    },
    {
      "cell_type": "code",
      "source": [
        "indexes = np.array([5, 6, 7, 8])\n",
        "array4 = array1d[indexes]\n",
        "print('일반 인덱스로 필터링 결과: ', array4)"
      ],
      "metadata": {
        "id": "lGFkq2zvYdoR"
      },
      "execution_count": null,
      "outputs": []
    },
    {
      "cell_type": "markdown",
      "source": [
        "불린 인덱싱이 동작하는 단계\n",
        "1. array1d > 5와 같이 ndarray의 필터링 조건을 [] 안에 기재\n",
        "2. False 값 무시, True 값에 해당하는 인덱스값만 저장\n",
        "3. 저장된 인덱스 데이터 세트로 ndarray 조회"
      ],
      "metadata": {
        "id": "yA3VVO6IYpil"
      }
    },
    {
      "cell_type": "markdown",
      "source": [
        "## 행렬의 정렬 - sort()와 argsort()  \n",
        "행렬 정렬: np.sort(), ndarray.sort()  \n",
        "정렬된 행렬의 인덱스 반환: argsort()"
      ],
      "metadata": {
        "id": "pZwZ8GiTY4TP"
      }
    },
    {
      "cell_type": "markdown",
      "source": [
        "**행렬 정렬**  \n",
        "* np.sort(): 원 행렬 유지, 원 행렬의 정렬된 행렬 반환  \n",
        "* ndarray.sort(): 원 행렬 자체를 정렬한 형태로 변환, 변환 값은 None"
      ],
      "metadata": {
        "id": "cBDWWU0bZC2k"
      }
    },
    {
      "cell_type": "code",
      "source": [
        "org_array = np.array([3, 1, 9, 5])\n",
        "print('원본 행렬: ', org_array)\n",
        "# np.sort()로 정렬\n",
        "sort_array1 = np.sort(org_array)\n",
        "print('np.sort() 호출 후 반환된 정렬 행렬: ', sort_array1)\n",
        "print('np.sort() 호출 후 원본 행렬: ', org_array)\n",
        "# ndarray.sort()로 정렬\n",
        "sort_array2 = org_array.sort()\n",
        "print('org_array.sort() 호출 후 반환된 행렬: ', sort_array2)\n",
        "print('org_array.sort() 호출 후 원본 행렬: ', org_array)"
      ],
      "metadata": {
        "id": "xyakte74kOVs"
      },
      "execution_count": null,
      "outputs": []
    },
    {
      "cell_type": "markdown",
      "source": [
        "np.sort(), ndarray.sort() 기본 오름차순  \n",
        "내림차순 정렬: [::-1] 적용"
      ],
      "metadata": {
        "id": "QliTNJTclpvA"
      }
    },
    {
      "cell_type": "code",
      "source": [
        "sort_array1_desc = np.sort(org_array)[::-1]\n",
        "print('내림차순으로 정렬: ', sort_array1_desc)"
      ],
      "metadata": {
        "id": "YkMaLDFXl2rf"
      },
      "execution_count": null,
      "outputs": []
    },
    {
      "cell_type": "markdown",
      "source": [
        "2차원 이상 행렬: axis 축 값 설정을 통해 row/column 방향 정렬 수행 가능"
      ],
      "metadata": {
        "id": "xErKkKLal_EZ"
      }
    },
    {
      "cell_type": "code",
      "source": [
        "array2d = np.array([[8, 12],\n",
        "                    [7, 1 ]])\n",
        "sort_array2d_axis0 = np.sort(array2d, axis=0)\n",
        "print('row 방향으로 정렬:\\n', sort_array2d_axis0)\n",
        "\n",
        "sort_array2d_axis1 = np.sort(array2d, axis=1)\n",
        "print('column 방향으로 정렬:\\n', sort_array2d_axis1)"
      ],
      "metadata": {
        "id": "mjaTe2OGmE_2"
      },
      "execution_count": null,
      "outputs": []
    },
    {
      "cell_type": "markdown",
      "source": [
        "**정렬된 행렬의 인덱스를 반환하기**  \n",
        "np.argsort(): 정렬 행렬의 원본 행렬 인덱스를 ndarray 형으로 반환"
      ],
      "metadata": {
        "id": "t7Ym-mhpmkW3"
      }
    },
    {
      "cell_type": "code",
      "source": [
        "org_array = np.array([3, 1, 9, 5])\n",
        "sort_indices = np.argsort(org_array)\n",
        "print(type(sort_indices))\n",
        "print('행렬 정렬 시 원본 행렬의 인덱스:', sort_indices)"
      ],
      "metadata": {
        "id": "ISdtGuljmvO-"
      },
      "execution_count": null,
      "outputs": []
    },
    {
      "cell_type": "code",
      "source": [
        "# 내림차순으로 정렬 시 원본 행렬의 인덱스\n",
        "org_array = np.array([3, 1, 9, 5])\n",
        "sort_indices_desc = np.argsort(org_array)[::-1]\n",
        "print('행렬 내림차순 정렬 시 원본 행렬의 인덱스: ', sort_indices_desc)"
      ],
      "metadata": {
        "id": "6EVxuLv8m8_U"
      },
      "execution_count": null,
      "outputs": []
    },
    {
      "cell_type": "markdown",
      "source": [
        "넘파이의 ndarray는 RDBMS의 TABLE 칼럼이나 판다스 DataFrame 칼럼과 같은 메타 데이터를 가질 수 없음  \n",
        "→ 실제 값과 그 값이 뜻하는 메타 데이터를 별도의 ndarray로 각각 가져야만 함  \n",
        "→ argsort()는 넘파이에서 활용도가 높음"
      ],
      "metadata": {
        "id": "PJUdG005nLa-"
      }
    },
    {
      "cell_type": "code",
      "source": [
        "import numpy as np\n",
        "\n",
        "name_array = np.array(['John', 'MIke', 'Sarah', 'Kate', 'Samuel'])\n",
        "score_array = np.array([78, 95, 84, 98, 88])\n",
        "\n",
        "sort_indices_asc = np.argsort(score_array)\n",
        "print('성적 오름차순 정렬 시 score_array의 인덱스: ', sort_indices_asc)\n",
        "print('성적 오름차순으로 name_array의 이름 출력: ', name_array[sort_indices_asc])"
      ],
      "metadata": {
        "id": "-aQDrIUOnrLC"
      },
      "execution_count": null,
      "outputs": []
    },
    {
      "cell_type": "markdown",
      "source": [
        "## 선형대수 연산 - 행렬 내적과 전치 행렬 구하기  "
      ],
      "metadata": {
        "id": "n1Sc4uHhBAf6"
      }
    },
    {
      "cell_type": "markdown",
      "source": [],
      "metadata": {
        "id": "PG-sfQzCBGAR"
      }
    }
  ]
}