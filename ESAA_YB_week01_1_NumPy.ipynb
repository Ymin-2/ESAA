{
  "nbformat": 4,
  "nbformat_minor": 0,
  "metadata": {
    "colab": {
      "provenance": [],
      "toc_visible": true,
      "authorship_tag": "ABX9TyOPBrxuXcUfqZK22aSVuUCn",
      "include_colab_link": true
    },
    "kernelspec": {
      "name": "python3",
      "display_name": "Python 3"
    },
    "language_info": {
      "name": "python"
    }
  },
  "cells": [
    {
      "cell_type": "markdown",
      "metadata": {
        "id": "view-in-github",
        "colab_type": "text"
      },
      "source": [
        "<a href=\"https://colab.research.google.com/github/Ymin-2/ESAA/blob/main/ESAA_YB_week01_1_NumPy.ipynb\" target=\"_parent\"><img src=\"https://colab.research.google.com/assets/colab-badge.svg\" alt=\"Open In Colab\"/></a>"
      ]
    },
    {
      "cell_type": "markdown",
      "source": [
        "# 넘파이\n",
        "(Numerical Python) NumPy: 파이썬에서 선형대수 기반의 프로그램을 쉽게 만들 수 있도록 지원하는 대표적인 패키지\n",
        "\n",
        "\n",
        "*   루프 사용 X, 대량 데이터의 배열 연산 가능 → 빠른 배열 연산 속도\n",
        "*   다양한 데이터 핸들링 기능 제공\n",
        "* 판다스(파이썬의 대표적인 데이터 처리 패키지)의 편리성에는 미치지 못함\n",
        "\n",
        "\n",
        "\n"
      ],
      "metadata": {
        "id": "L0fNa76Lx1q_"
      }
    },
    {
      "cell_type": "markdown",
      "source": [
        "## **넘파이 ndarray 개요**\n"
      ],
      "metadata": {
        "id": "YSrRNuC806XP"
      }
    },
    {
      "cell_type": "markdown",
      "source": [
        "ndarray: 넘파이의 기반 데이터 타입\n",
        "* 넘파이에서 다차원 배열을 쉽게 생성하고 다양한 연산 수행 가능"
      ],
      "metadata": {
        "id": "DZyS8IO84YIs"
      }
    },
    {
      "cell_type": "code",
      "source": [
        "import numpy as np\n",
        "# as np 를 추가해 약어로 모듈을 표현해주는 게 관례"
      ],
      "metadata": {
        "id": "dVQXrT8D1gOl"
      },
      "execution_count": 6,
      "outputs": []
    },
    {
      "cell_type": "markdown",
      "source": [
        "array() 함수: 파이썬의 리스트와 같은 다양한 인자를 입력받아서 ndarray로 변환하는 기능 수행\n",
        "\n",
        "생성된 ndarray 배열의 shape 변수는 ndarray의 크기(행과 열의 수)를 튜플 형태로 가짐 → ndarray 배열의 차원까지 알 수 있음"
      ],
      "metadata": {
        "id": "L2ZziPVH1qav"
      }
    },
    {
      "cell_type": "code",
      "source": [
        "array1 = np.array([1, 2, 3])\n",
        "print('array1 type: ', type(array1))\n",
        "print('array1 array 형태: ', array1.shape)\n",
        "\n",
        "array2 = np.array([[1, 2, 3],\n",
        "                   [2, 3, 4]])\n",
        "print('array2 type: ', type(array2))\n",
        "print('array2 array 형태: ', array2.shape)\n",
        "\n",
        "array3 = np.array([[1, 2, 3]])\n",
        "print('array3 type: ', type(array3))\n",
        "print('array3 array 형태: ', array3.shape)"
      ],
      "metadata": {
        "colab": {
          "base_uri": "https://localhost:8080/"
        },
        "id": "DF5dXnjN1fIB",
        "outputId": "38b9bbc4-be65-46cc-e8bb-3399e7e91aad"
      },
      "execution_count": 7,
      "outputs": [
        {
          "output_type": "stream",
          "name": "stdout",
          "text": [
            "array1 type:  <class 'numpy.ndarray'>\n",
            "array1 array 형태:  (3,)\n",
            "array2 type:  <class 'numpy.ndarray'>\n",
            "array2 array 형태:  (2, 3)\n",
            "array3 type:  <class 'numpy.ndarray'>\n",
            "array3 array 형태:  (1, 3)\n"
          ]
        }
      ]
    },
    {
      "cell_type": "markdown",
      "source": [
        "np.array() 사용법\n",
        "\n",
        "ndarray로 변환을 원하는 객체를 인자로 입력  \n",
        "* **ndarray.shpae**: ndarray의 차원과 크기를 튜플 형태로 나타냄\n",
        "  - [1, 2, 3]의 shape: (3,) *#1차원 array로 3개의 데이터를 가지고 있음*  \n",
        "  - [[1, 2, 3], [2, 3, 4]]의 shape: (2, 3) *#2차원 array, 2개의 로우와 3개의 칼럼으로 구성되어 6개의 데이터를 가지고 있음*\n",
        "  - [[1, 2, 3]]의 shape: (1, 3) *#1개의 로우와 3개의 칼럼으로 구성된 2차원 데이터  \n",
        "  - array3은 array1과 동일한 데이터 건수를 가지고 있지만, array1은 명확하게 1차원임을(3,) 형태로, array3은 명확하게 2차원 데이터임을 (1,3)으로 표현"
      ],
      "metadata": {
        "id": "KC470cuX3on1"
      }
    },
    {
      "cell_type": "code",
      "source": [
        "print('array1: {0}차원, array2: {1}차원, array3: {2}차원'.format(array1.ndim, array2.ndim, array3.ndim))"
      ],
      "metadata": {
        "colab": {
          "base_uri": "https://localhost:8080/"
        },
        "id": "IVcrwrzB6b4F",
        "outputId": "32634ea0-b361-47b1-f9af-efed8a814e23"
      },
      "execution_count": 8,
      "outputs": [
        {
          "output_type": "stream",
          "name": "stdout",
          "text": [
            "array1: 1차원, array2: 2차원, array3: 2차원\n"
          ]
        }
      ]
    },
    {
      "cell_type": "markdown",
      "source": [
        "ndarray.ndim: array의 차원 확인"
      ],
      "metadata": {
        "id": "TFtJDrnz6y9i"
      }
    },
    {
      "cell_type": "markdown",
      "source": [
        "## **ndarray의 데이터 타입**"
      ],
      "metadata": {
        "id": "DtXlSm7W7sh9"
      }
    },
    {
      "cell_type": "markdown",
      "source": [
        "ndarray내의 데이터값은 숫자 값, 문자열 값, 불 값 등 모두 가능  \n",
        "ndarray내의 데이터 타입은 그 연산의 특성상 같은 데이터 타입만 가능  \n",
        "ndarray내의 데이터 타입은 dtype 속성으로 확인 가능"
      ],
      "metadata": {
        "id": "89RIrOjl8IWm"
      }
    },
    {
      "cell_type": "code",
      "source": [
        "list1 = [1, 2, 3]\n",
        "print(type(list1))\n",
        "array1 = np.array(list1)\n",
        "print(type(array1))\n",
        "print(array1, array1.dtype)"
      ],
      "metadata": {
        "colab": {
          "base_uri": "https://localhost:8080/"
        },
        "id": "bs2CaTV98qu0",
        "outputId": "26f6f8bf-b8eb-482d-ca8e-6c48dc93117c"
      },
      "execution_count": 9,
      "outputs": [
        {
          "output_type": "stream",
          "name": "stdout",
          "text": [
            "<class 'list'>\n",
            "<class 'numpy.ndarray'>\n",
            "[1 2 3] int64\n"
          ]
        }
      ]
    },
    {
      "cell_type": "code",
      "source": [
        "list2 = [1, 2, 'test']\n",
        "array2 = np.array(list2)\n",
        "print(array2, array2.dtype)\n",
        "\n",
        "list3 = [1, 2, 3.0]\n",
        "array3 = np.array(list3)\n",
        "print(array3, array3.dtype)"
      ],
      "metadata": {
        "colab": {
          "base_uri": "https://localhost:8080/"
        },
        "id": "X-y8aPsV9c4N",
        "outputId": "2cb3a164-b63b-48c3-e3ee-3b183b6d1b8d"
      },
      "execution_count": 10,
      "outputs": [
        {
          "output_type": "stream",
          "name": "stdout",
          "text": [
            "['1' '2' 'test'] <U21\n",
            "[1. 2. 3.] float64\n"
          ]
        }
      ]
    },
    {
      "cell_type": "markdown",
      "source": [
        "서로 다른 데이터 타입을 가질 수 있는 리스트와는 다르게 ndarray 내의 데이터 타입은 그 연산의 특성상 같은 데이터 타입만 가능  \n",
        "→ 다른 데이터 유형이 섞여 있는 리스트를 ndarray로 변경하면 데이터 크기가 더 큰 데이터 타입으로 형 변환 일괄 적용  \n",
        "* int형 값과 문자열이 섞여 있는 list2 → int형이 유니코드 문자열 값으로 변환\n",
        "* int형과 float형이 섞여 있는 list3 → int형이 float64형으로 변환"
      ],
      "metadata": {
        "id": "1RucZAit8-NE"
      }
    },
    {
      "cell_type": "markdown",
      "source": [
        "ndarray 내 데이터값의 타입 변경: **astype()** 메서드 이용  \n",
        "* astype()에 인자로 원하는 타입을 문자열로 지정\n",
        "* 메모리를 더 절약해야 할 때 이용"
      ],
      "metadata": {
        "id": "YG9MTDTW_xSv"
      }
    },
    {
      "cell_type": "code",
      "source": [
        "array_int = np.array([1, 2, 3])\n",
        "array_float = array_int.astype('float64') #int32형 데이터를 float64로 변환\n",
        "print(array_float, array_float.dtype)\n",
        "\n",
        "array_int1 = array_float.astype('int32') #float64를 int32로 변경\n",
        "print(array_int1, array_int1.dtype)\n",
        "\n",
        "array_float1 = np.array([1.1, 2.1, 3.1])\n",
        "array_int2 = array_float1.astype('int32')\n",
        "print(array_int2, array_int2.dtype) #float를 int형으로 변경할 때 소수점 이하 없어짐"
      ],
      "metadata": {
        "colab": {
          "base_uri": "https://localhost:8080/"
        },
        "id": "vb8hzFGvATGs",
        "outputId": "fa4dca40-44f9-4fca-8dee-b1c3f2d14bcc"
      },
      "execution_count": 11,
      "outputs": [
        {
          "output_type": "stream",
          "name": "stdout",
          "text": [
            "[1. 2. 3.] float64\n",
            "[1 2 3] int32\n",
            "[1 2 3] int32\n"
          ]
        }
      ]
    },
    {
      "cell_type": "markdown",
      "source": [
        "## **ndarray를 편리하게 생성하기 - arange, zeros, ones**  \n",
        "특정 크기와 차원을 가진 ndarray를 연속값이나 0 또는 1로 초기화해 쉽게 생성해야 할 필요가 있는 경우에 이용  \n",
        "테스트용으로 데이터를 만들거나 대규모의 데이터를 일괄적으로 초기화해야 할 경우에 사용"
      ],
      "metadata": {
        "id": "avpVGLhYBv5X"
      }
    },
    {
      "cell_type": "markdown",
      "source": [],
      "metadata": {
        "id": "Z-Hz7oZZCU_I"
      }
    }
  ]
}